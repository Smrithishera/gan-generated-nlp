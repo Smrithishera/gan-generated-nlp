{
  "nbformat": 4,
  "nbformat_minor": 0,
  "metadata": {
    "colab": {
      "provenance": [],
      "authorship_tag": "ABX9TyP1XCkCBZUcvNkART7lwrIp",
      "include_colab_link": true
    },
    "kernelspec": {
      "name": "python3",
      "display_name": "Python 3"
    },
    "language_info": {
      "name": "python"
    }
  },
  "cells": [
    {
      "cell_type": "markdown",
      "metadata": {
        "id": "view-in-github",
        "colab_type": "text"
      },
      "source": [
        "<a href=\"https://colab.research.google.com/github/Smrithishera/gan-generated-nlp/blob/main/training.ipynb\" target=\"_parent\"><img src=\"https://colab.research.google.com/assets/colab-badge.svg\" alt=\"Open In Colab\"/></a>"
      ]
    },
    {
      "cell_type": "code",
      "execution_count": 1,
      "metadata": {
        "id": "pCOW-NR7n7yX"
      },
      "outputs": [],
      "source": [
        "# training.py\n",
        "\n",
        "import numpy as np\n",
        "import random\n"
      ]
    },
    {
      "cell_type": "code",
      "source": [
        "def train_gan(generator, discriminator, gan, padded_sequences, vocab_size, max_sequence_len, epochs=1000, batch_size=32):\n",
        "    for epoch in range(epochs):\n",
        "        for _ in range(batch_size):\n",
        "            noise = np.random.randint(1, vocab_size, (batch_size, max_sequence_len - 1))\n",
        "            generated_sequences = generator.predict(noise)\n",
        "\n",
        "            real_labels = np.ones((batch_size, 1))\n",
        "            fake_labels = np.zeros((batch_size, 1))\n",
        "\n",
        "            real_sequences = padded_sequences[random.sample(range(len(padded_sequences)), batch_size)]\n",
        "            d_loss_real = discriminator.train_on_batch(real_sequences, real_labels)\n",
        "            d_loss_fake = discriminator.train_on_batch(generated_sequences, fake_labels)\n",
        "\n",
        "        noise = np.random.randint(1, vocab_size, (batch_size, max_sequence_len - 1))\n",
        "        gan_loss = gan.train_on_batch(noise, real_labels)\n",
        "\n",
        "        print(f\"Epoch {epoch + 1}/{epochs} | Discriminator Loss: {d_loss_real[0]}, Generator Loss: {gan_loss}\")"
      ],
      "metadata": {
        "id": "92O5QvkQoAOG"
      },
      "execution_count": 2,
      "outputs": []
    }
  ]
}