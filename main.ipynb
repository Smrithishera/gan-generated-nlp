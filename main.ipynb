{
  "nbformat": 4,
  "nbformat_minor": 0,
  "metadata": {
    "colab": {
      "provenance": [],
      "authorship_tag": "ABX9TyP/dQcbq+cnw+aVj6+KyEaq",
      "include_colab_link": true
    },
    "kernelspec": {
      "name": "python3",
      "display_name": "Python 3"
    },
    "language_info": {
      "name": "python"
    }
  },
  "cells": [
    {
      "cell_type": "markdown",
      "metadata": {
        "id": "view-in-github",
        "colab_type": "text"
      },
      "source": [
        "<a href=\"https://colab.research.google.com/github/Smrithishera/gan-generated-nlp/blob/main/main.ipynb\" target=\"_parent\"><img src=\"https://colab.research.google.com/assets/colab-badge.svg\" alt=\"Open In Colab\"/></a>"
      ]
    },
    {
      "cell_type": "code",
      "source": [
        "from data_loader import load_data, preprocess_data\n",
        "from models import build_generator, build_discriminator, build_gan\n",
        "from training import train_gan\n",
        "from generate_text import generate_text\n",
        "from tensorflow.keras.preprocessing.text import Tokenizer"
      ],
      "metadata": {
        "id": "YClzkriH0m6X"
      },
      "execution_count": null,
      "outputs": []
    },
    {
      "cell_type": "code",
      "source": [
        "# Load and preprocess the data\n",
        "data = load_data()\n",
        "tokenizer, padded_sequences, vocab_size, max_sequence_len = preprocess_data(data)\n",
        "\n",
        "# Build the models\n",
        "generator = build_generator(vocab_size, max_sequence_len)\n",
        "discriminator = build_discriminator(vocab_size, max_sequence_len)\n",
        "gan = build_gan(generator, discriminator)\n",
        "\n",
        "# Train the GAN\n",
        "train_gan(generator, discriminator, gan, padded_sequences, vocab_size, max_sequence_len)\n",
        "\n",
        "# Generate text\n",
        "seed_text = \"Hello\"\n",
        "generated_text = generate_text(generator, tokenizer, max_sequence_len, seed_text)\n",
        "print(generated_text)"
      ],
      "metadata": {
        "id": "_b7dVe3C0sIF"
      },
      "execution_count": null,
      "outputs": []
    }
  ]
}