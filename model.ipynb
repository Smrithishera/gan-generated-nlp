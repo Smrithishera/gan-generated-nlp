{
  "nbformat": 4,
  "nbformat_minor": 0,
  "metadata": {
    "colab": {
      "provenance": [],
      "authorship_tag": "ABX9TyPDKNJdfjyzc5JfFkDE+ECH",
      "include_colab_link": true
    },
    "kernelspec": {
      "name": "python3",
      "display_name": "Python 3"
    },
    "language_info": {
      "name": "python"
    }
  },
  "cells": [
    {
      "cell_type": "markdown",
      "metadata": {
        "id": "view-in-github",
        "colab_type": "text"
      },
      "source": [
        "<a href=\"https://colab.research.google.com/github/Smrithishera/gan-generated-nlp/blob/main/model.ipynb\" target=\"_parent\"><img src=\"https://colab.research.google.com/assets/colab-badge.svg\" alt=\"Open In Colab\"/></a>"
      ]
    },
    {
      "cell_type": "code",
      "execution_count": 2,
      "metadata": {
        "id": "X59WSB-tnX37"
      },
      "outputs": [],
      "source": [
        "# models.py\n",
        "from tensorflow.keras.layers import Embedding, LSTM, Dense, Dropout, Bidirectional\n",
        "from tensorflow.keras.models import Sequential\n",
        "import tensorflow as tf"
      ]
    },
    {
      "cell_type": "code",
      "source": [
        "def build_generator(vocab_size, max_sequence_len):\n",
        "    model = Sequential()\n",
        "    model.add(Embedding(vocab_size, 10, input_length=max_sequence_len - 1))\n",
        "    model.add(Bidirectional(LSTM(50)))\n",
        "    model.add(Dense(vocab_size, activation='softmax'))\n",
        "    return model"
      ],
      "metadata": {
        "id": "49UwkqL-nhVN"
      },
      "execution_count": 3,
      "outputs": []
    },
    {
      "cell_type": "code",
      "source": [
        "def build_discriminator(vocab_size, max_sequence_len):\n",
        "    model = Sequential()\n",
        "    model.add(Embedding(vocab_size, 10, input_length=max_sequence_len))\n",
        "    model.add(Bidirectional(LSTM(50)))\n",
        "    model.add(Dense(1, activation='sigmoid'))\n",
        "    return model\n"
      ],
      "metadata": {
        "id": "ofBNgitvnjWM"
      },
      "execution_count": 4,
      "outputs": []
    },
    {
      "cell_type": "code",
      "source": [
        "def build_gan(generator, discriminator):\n",
        "    discriminator.compile(loss='binary_crossentropy', optimizer='adam', metrics=['accuracy'])\n",
        "    discriminator.trainable = False\n",
        "    gan_input = tf.keras.Input(shape=(generator.input_shape[1],))\n",
        "    generated_seq = generator(gan_input)\n",
        "    gan_output = discriminator(generated_seq)\n",
        "    gan = tf.keras.Model(gan_input, gan_output)\n",
        "    gan.compile(loss='binary_crossentropy', optimizer='adam')\n",
        "    return gan"
      ],
      "metadata": {
        "id": "vYGiow3innPY"
      },
      "execution_count": 5,
      "outputs": []
    }
  ]
}